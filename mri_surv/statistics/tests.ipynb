Omnibus for RACE	chi2=54.11935146185722
	p=2.2274480814469196e-09
	dof=7
	expected_lt5=True


RACE,col AmericanIndianOrAlaskanNative: 
	chi2=4.547126962489126
	p=0.2637922502218775
	dof=1
	expected_lt5=True
	proportion ADNI vs NACC: 0.0 vs 0.011811023622047244
	counts for ADNI vs NACC: 544 vs 508

RACE,col Asian: 
	chi2=1.6488677034973473
	p=1.5929049022236346
	dof=1
	expected_lt5=False
	proportion ADNI vs NACC: 0.012867647058823529 vs 0.025590551181102362
	counts for ADNI vs NACC: 544 vs 508

RACE,col BlackOrAfricanAmerican: 
	chi2=33.90338929151556
	p=4.6334173441139426e-08
	dof=1
	expected_lt5=False
	proportion ADNI vs NACC: 0.025735294117647058 vs 0.12007874015748031
	counts for ADNI vs NACC: 544 vs 508

RACE,col MoreThanOneRace: 
	chi2=5.7052975512711654
	p=0.1353103042533557
	dof=1
	expected_lt5=True
	proportion ADNI vs NACC: 0.014705882352941176 vs 0.0
	counts for ADNI vs NACC: 544 vs 508

RACE,col MultipleValues: 
	chi2=0.4352371854253513
	p=4.075442136291422
	dof=1
	expected_lt5=True
	proportion ADNI vs NACC: 0.003676470588235294 vs 0.0
	counts for ADNI vs NACC: 544 vs 508

RACE,col NativeHawaiianOrPacificIslander: 
	chi2=0.0
	p=8.0
	dof=1
	expected_lt5=True
	proportion ADNI vs NACC: 0.003676470588235294 vs 0.001968503937007874
	counts for ADNI vs NACC: 544 vs 508

RACE,col Unknown: 
	chi2=0.0
	p=8.0
	dof=1
	expected_lt5=True
	proportion ADNI vs NACC: 0.003676470588235294 vs 0.001968503937007874
	counts for ADNI vs NACC: 544 vs 508

RACE,col White: 
	chi2=24.073165528326555
	p=7.4195009542138256e-06
	dof=1
	expected_lt5=False
	proportion ADNI vs NACC: 0.9356617647058824 vs 0.8385826771653543
	counts for ADNI vs NACC: 544 vs 508

Omnibus for ETHNICITY	chi2=4.177144771422926
	p=0.24296011161658312
	dof=3
	expected_lt5=True


ETHNICITY,col HispanicOrLatino: 
	chi2=1.4806988086455763
	p=0.8946608768510512
	dof=1
	expected_lt5=False
	proportion ADNI vs NACC: 0.027573529411764705 vs 0.04330708661417323
	counts for ADNI vs NACC: 544 vs 508

ETHNICITY,col MultipleValues: 
	chi2=0.4352371854253513
	p=2.037721068145711
	dof=1
	expected_lt5=True
	proportion ADNI vs NACC: 0.003676470588235294 vs 0.0
	counts for ADNI vs NACC: 544 vs 508

ETHNICITY,col NotHispanicOrLatino: 
	chi2=1.0288602088141716
	p=1.2417060889475795
	dof=1
	expected_lt5=False
	proportion ADNI vs NACC: 0.9669117647058824 vs 0.952755905511811
	counts for ADNI vs NACC: 544 vs 508

ETHNICITY,col Unknown: 
	chi2=0.0035273122332259267
	p=3.8105621527685187
	dof=1
	expected_lt5=True
	proportion ADNI vs NACC: 0.001838235294117647 vs 0.003937007874015748
	counts for ADNI vs NACC: 544 vs 508

